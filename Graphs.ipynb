{
 "cells": [
  {
   "cell_type": "raw",
   "metadata": {
    "lines_to_next_cell": 0
   },
   "source": [
    "---\n",
    "title: \"Graphs\"\n",
    "author: \"VF\"\n",
    "date: \"9 July 2020\"\n",
    "output: html_document\n",
    "---"
   ]
  },
  {
   "cell_type": "markdown",
   "metadata": {},
   "source": [
    "##Graphs\n",
    "\n",
    "Run loadData.R or output.Rmd first to load the latest Data and the definitions. \n",
    "Please make sure myPlotPath is correct!"
   ]
  },
  {
   "cell_type": "code",
   "execution_count": 1,
   "metadata": {
    "name": "init",
    "tags": [
     "remove_cell"
    ]
   },
   "outputs": [
    {
     "name": "stdout",
     "output_type": "stream",
     "text": [
      "[1] \"I run MS Windows.\"\n",
      "[1] \"Written the current data with counters to disk as Covid19ECDC_days.csv for use in Tableau or Excel\"\n",
      "[1] \"Written the current data with counters to disk as Covid19JHH_days.csv for use in Tableau or Excel\"\n"
     ]
    }
   ],
   "source": [
    "#knitrr::opts_chunk$set(echo = TRUE)\n",
    "\n",
    "if (!exists('JHH')) source('loadData.R') else \n",
    "  if (max(JHH$Date) < Sys.Date() - 1) {source('loadData.R')  \n",
    "   } else source('definitions.R')\n",
    "save.image(\".RData\") #D:/gits/Covid19/\n",
    "#switch(get_os(), \n",
    "#       windows = {print(\"I run MS Windows.\");\n",
    "#                  myPlotPath <- \"G:/My Drive/Covid19_plots\"},\n",
    "#       linux   = {print(\"I'm a penguin.\"); myPlotPath <- \"~/Covid19_plots\"},\n",
    "#       osx     = {print(\"I'm a Mac.\");myPlotPath <- \"~/Covid19_plots\"},\n",
    "#       ...     = {print('not recognized OS');myPlotPath <- \"~/Covid19_plots\"})\n",
    "\n",
    "if (!dir.exists(myPlotPath %//% 'data')) dir.create(myPlotPath %//% 'data', recursive = TRUE)\n",
    "writeWithCounters(ECDC,name = \"Covid19ECDC\")\n",
    "writeWithCounters(JHH,name = \"Covid19JHH\") "
   ]
  },
  {
   "cell_type": "markdown",
   "metadata": {},
   "source": [
    "Graph and save lots of graphs on all regions present, paginated by size of the Covid impact (total confirmed cases), and on each page, territory graphs are sorted by decreasing value of the first graphed variable on the latest date in that territory.\n"
   ]
  },
  {
   "cell_type": "code",
   "execution_count": 2,
   "metadata": {
    "name": "graphs walkthrough",
    "tags": [
     "remove_input"
    ]
   },
   "outputs": [
    {
     "name": "stdout",
     "output_type": "stream",
     "text": [
      "[1] \"results of 2020-09-10\"\n",
      "[1] \"ECDC graphs 10.6 mins\"\n",
      "[1] \"JHH graphs 34.38 mins\"\n"
     ]
    }
   ],
   "source": [
    "print(\"results of\" % % Sys.Date())\n",
    "verbose = 0\n",
    "tim = Sys.time()\n",
    "walkThrough(lpdf = ECDC, regions = ECDCRegios, graphlist = myGraphNrs, myFolderDate  = 'current', ordre = 'GR')\n",
    "reportDiffTime('ECDC graphs',tim, units = 'mins')\n",
    "\n",
    "tim = Sys.time()\n",
    "walkThrough( lpdf = JHH, regions = JHHRegios, graphlist = myGraphNrs, myFolderDate  = 'current', ordre = 'GR')\n",
    "reportDiffTime('JHH graphs',tim,units = 'mins')\n"
   ]
  },
  {
   "cell_type": "markdown",
   "metadata": {
    "lines_to_next_cell": 0
   },
   "source": [
    "Development one month at a time"
   ]
  },
  {
   "cell_type": "code",
   "execution_count": null,
   "metadata": {
    "eval": false,
    "name": "one month",
    "tags": [
     "remove_cell"
    ]
   },
   "outputs": [],
   "source": [
    "if ( mday(Sys.Date() ) <= 03) {#uses lubridate\n",
    "  walkThrough(lpdf = JHH, regions = JHHRegios, graphlist = myGraphNrs, \n",
    "              from = floor_date(Sys.Date() %m-% months(1), 'month'), \n",
    "              to = ceiling_date(Sys.Date() %m-% months(1), 'month')-1, \n",
    "              myFolderDate = year(Sys.Date() %m-% months(1)) %-% sprintf(\"%02d\", month(Sys.Date() %m-% months(1))), \n",
    "              ordre = 'RG')\n",
    "  }"
   ]
  },
  {
   "cell_type": "markdown",
   "metadata": {
    "lines_to_next_cell": 0
   },
   "source": [
    "Do all months up to today"
   ]
  },
  {
   "cell_type": "code",
   "execution_count": null,
   "metadata": {
    "eval": false,
    "lines_to_next_cell": 0,
    "name": "all months",
    "tags": [
     "remove_cell"
    ]
   },
   "outputs": [],
   "source": [
    "verbose = 1\n",
    "makeHistoryGraphs(JHH, regions = JHHRegios, fromDates = seq(as.Date('2020-01-01'),Sys.Date(),  by = '1 month'), ordre = 'GR')  \n",
    "makeHistoryGraphs(ECDC, regions = ECDCRegios, fromDates = seq(as.Date('2020-01-01'),Sys.Date(),  by = '1 month'))  \n"
   ]
  },
  {
   "cell_type": "markdown",
   "metadata": {
    "lines_to_next_cell": 0
   },
   "source": [
    "A more convoluted way, just for the record: "
   ]
  },
  {
   "cell_type": "code",
   "execution_count": null,
   "metadata": {
    "eval": false,
    "lines_to_next_cell": 0,
    "name": "all months convoluted",
    "tags": [
     "remove_cell"
    ]
   },
   "outputs": [],
   "source": [
    "startDate = \"2020-01-01\"\n",
    "fromDates <- as.character(seq(as.Date(startDate), length = 12, by = \"1 month\"))\n",
    "toDates <- as.character(seq(as.Date(fromDates[2]), length = 12, by = \"1 month\") - 1)\n",
    "\n",
    "makeHistoryGraphs(ECDC,ECDCRegios, graphlist = myGraphNrs, \n",
    "                  fromDates = fromDates, toDates = toDates)\n",
    "\n",
    "makeHistoryGraphs(JHH,JHHRegios, graphlist = myGraphNrs, \n",
    "                  fromDates = fromDates, toDates = toDates)\n"
   ]
  },
  {
   "cell_type": "markdown",
   "metadata": {},
   "source": [
    "This do once in a while, to do all the non-numbererd graphs. "
   ]
  },
  {
   "cell_type": "code",
   "execution_count": null,
   "metadata": {
    "name": "byDate once a week"
   },
   "outputs": [],
   "source": [
    "if ( weekdays( Sys.Date() , abbreviate = FALSE) == \"Friday\")  \n",
    "  walkThrough(JHH, JHHRegios[1:10], graphlist = myGraphListbyDate,\n",
    "              myFolderDate = 'weekly')"
   ]
  },
  {
   "cell_type": "markdown",
   "metadata": {
    "lines_to_next_cell": 0
   },
   "source": [
    "Simulate how the non-social distancing situation would have turned out: deaths, recovered, and confirmed   "
   ]
  },
  {
   "cell_type": "code",
   "execution_count": null,
   "metadata": {
    "eval": false,
    "lines_to_next_cell": 0,
    "name": "sims",
    "tags": [
     "remove_cell"
    ]
   },
   "outputs": [],
   "source": [
    "graphDddp_fyl(JHH,regios$Vincent,savename  = \"deaths missed\") \n",
    "walkThrough(JHH, regions = JHHRegios,graphlist = 'graphDccprr_fyl')\n",
    "\n",
    "walkThrough(ECDC, ECDCRegios,ext = '_sim', graphlist = c('graphDccprr_fiyl','graphDddp_fyl')) \n",
    "walkThrough(ECDC , ECDCRegios,ext = '_endsim',graphlist = c('graphDccprr_fiyl', 'graphDddp_fyl')) \n",
    "\n"
   ]
  },
  {
   "cell_type": "markdown",
   "metadata": {},
   "source": [
    "## R Markdown and Jupyter Notebook: sync with Jupytext. \n",
    "\n",
    "This is an R Markdown document, linked to the same document as Jupyter notebook, using Jupytext. Markdown is a simple formatting syntax for authoring HTML, PDF, and MS Word documents. For more details on using R Markdown see <http://rmarkdown.rstudio.com>.\n",
    "\n",
    "When you click the **Knit** button a document will be generated that includes both content as well as the output of any embedded R code chunks within the document. You can embed an R code chunk like this:\n",
    "\n",
    "Note that the `{r, echo = FALSE}` parameter can be added to the code chunk to prevent printing of the R code that generated the plot. And Include = false prevents automatic execution of the block.\n",
    "\n",
    "Second, note that for git, the ipynb files containing output are much heavier than the Rmd files which contain the inputs only, according to Jupytext faq (https://jupytext.readthedocs.io/en/latest/faq.html). I commit both just to be sure at this moment. "
   ]
  }
 ],
 "metadata": {
  "@webio": {
   "lastCommId": null,
   "lastKernelId": null
  },
  "jupytext": {
   "cell_metadata_filter": "name,tags,eval,-all",
   "formats": "Rmd,ipynb,md",
   "notebook_metadata_filter": "-all"
  },
  "kernelspec": {
   "display_name": "R 4.0.2",
   "language": "R",
   "name": "ir4.0.2"
  },
  "language_info": {
   "codemirror_mode": "r",
   "file_extension": ".r",
   "mimetype": "text/x-r-source",
   "name": "R",
   "pygments_lexer": "r",
   "version": "4.0.2"
  }
 },
 "nbformat": 4,
 "nbformat_minor": 4
}
